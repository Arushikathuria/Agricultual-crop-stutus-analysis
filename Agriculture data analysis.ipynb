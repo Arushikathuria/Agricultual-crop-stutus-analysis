{
 "cells": [
  {
   "cell_type": "code",
   "execution_count": 1,
   "id": "234838b1",
   "metadata": {},
   "outputs": [],
   "source": [
    "import pandas as pd\n",
    "import numpy as np\n",
    "import matplotlib.pyplot as plt\n",
    "import seaborn as sns"
   ]
  },
  {
   "cell_type": "markdown",
   "id": "e8f5c14c",
   "metadata": {},
   "source": [
    "### Train Data"
   ]
  },
  {
   "cell_type": "code",
   "execution_count": 2,
   "id": "7671ea4a",
   "metadata": {},
   "outputs": [
    {
     "data": {
      "text/html": [
       "<div>\n",
       "<style scoped>\n",
       "    .dataframe tbody tr th:only-of-type {\n",
       "        vertical-align: middle;\n",
       "    }\n",
       "\n",
       "    .dataframe tbody tr th {\n",
       "        vertical-align: top;\n",
       "    }\n",
       "\n",
       "    .dataframe thead th {\n",
       "        text-align: right;\n",
       "    }\n",
       "</style>\n",
       "<table border=\"1\" class=\"dataframe\">\n",
       "  <thead>\n",
       "    <tr style=\"text-align: right;\">\n",
       "      <th></th>\n",
       "      <th>ID</th>\n",
       "      <th>Insects</th>\n",
       "      <th>Crop</th>\n",
       "      <th>Soil</th>\n",
       "      <th>Category_of_Toxicant</th>\n",
       "      <th>Does_count</th>\n",
       "      <th>Number_of_Weeks_Used</th>\n",
       "      <th>Number_Weeks_does_not used</th>\n",
       "      <th>Season</th>\n",
       "      <th>Crop_status</th>\n",
       "    </tr>\n",
       "  </thead>\n",
       "  <tbody>\n",
       "    <tr>\n",
       "      <th>0</th>\n",
       "      <td>1</td>\n",
       "      <td>188</td>\n",
       "      <td>Feed</td>\n",
       "      <td>clay</td>\n",
       "      <td>1</td>\n",
       "      <td>0</td>\n",
       "      <td>0.0</td>\n",
       "      <td>0</td>\n",
       "      <td>1</td>\n",
       "      <td>0</td>\n",
       "    </tr>\n",
       "    <tr>\n",
       "      <th>1</th>\n",
       "      <td>2</td>\n",
       "      <td>209</td>\n",
       "      <td>Feed</td>\n",
       "      <td>clay</td>\n",
       "      <td>1</td>\n",
       "      <td>0</td>\n",
       "      <td>0.0</td>\n",
       "      <td>0</td>\n",
       "      <td>2</td>\n",
       "      <td>1</td>\n",
       "    </tr>\n",
       "    <tr>\n",
       "      <th>2</th>\n",
       "      <td>3</td>\n",
       "      <td>257</td>\n",
       "      <td>Feed</td>\n",
       "      <td>clay</td>\n",
       "      <td>1</td>\n",
       "      <td>0</td>\n",
       "      <td>0.0</td>\n",
       "      <td>0</td>\n",
       "      <td>2</td>\n",
       "      <td>1</td>\n",
       "    </tr>\n",
       "    <tr>\n",
       "      <th>3</th>\n",
       "      <td>4</td>\n",
       "      <td>257</td>\n",
       "      <td>Feed</td>\n",
       "      <td>silt</td>\n",
       "      <td>1</td>\n",
       "      <td>0</td>\n",
       "      <td>0.0</td>\n",
       "      <td>0</td>\n",
       "      <td>2</td>\n",
       "      <td>1</td>\n",
       "    </tr>\n",
       "    <tr>\n",
       "      <th>4</th>\n",
       "      <td>5</td>\n",
       "      <td>342</td>\n",
       "      <td>Feed</td>\n",
       "      <td>clay</td>\n",
       "      <td>1</td>\n",
       "      <td>0</td>\n",
       "      <td>0.0</td>\n",
       "      <td>0</td>\n",
       "      <td>2</td>\n",
       "      <td>1</td>\n",
       "    </tr>\n",
       "  </tbody>\n",
       "</table>\n",
       "</div>"
      ],
      "text/plain": [
       "   ID  Insects  Crop  Soil  Category_of_Toxicant  Does_count  \\\n",
       "0   1      188  Feed  clay                     1           0   \n",
       "1   2      209  Feed  clay                     1           0   \n",
       "2   3      257  Feed  clay                     1           0   \n",
       "3   4      257  Feed  silt                     1           0   \n",
       "4   5      342  Feed  clay                     1           0   \n",
       "\n",
       "   Number_of_Weeks_Used  Number_Weeks_does_not used  Season  Crop_status  \n",
       "0                   0.0                           0       1            0  \n",
       "1                   0.0                           0       2            1  \n",
       "2                   0.0                           0       2            1  \n",
       "3                   0.0                           0       2            1  \n",
       "4                   0.0                           0       2            1  "
      ]
     },
     "execution_count": 2,
     "metadata": {},
     "output_type": "execute_result"
    }
   ],
   "source": [
    "train_data = pd.read_excel(r'C:\\Users\\dell\\Python\\stage 2\\train.xlsx')\n",
    "train_data.head()"
   ]
  },
  {
   "cell_type": "code",
   "execution_count": 3,
   "id": "8ffcff2b",
   "metadata": {},
   "outputs": [
    {
     "data": {
      "text/plain": [
       "(80000, 10)"
      ]
     },
     "execution_count": 3,
     "metadata": {},
     "output_type": "execute_result"
    }
   ],
   "source": [
    "train_data.shape"
   ]
  },
  {
   "cell_type": "code",
   "execution_count": 4,
   "id": "cb91bc9a",
   "metadata": {},
   "outputs": [
    {
     "name": "stdout",
     "output_type": "stream",
     "text": [
      "<class 'pandas.core.frame.DataFrame'>\n",
      "RangeIndex: 80000 entries, 0 to 79999\n",
      "Data columns (total 10 columns):\n",
      " #   Column                      Non-Null Count  Dtype  \n",
      "---  ------                      --------------  -----  \n",
      " 0   ID                          80000 non-null  int64  \n",
      " 1   Insects                     80000 non-null  int64  \n",
      " 2   Crop                        80000 non-null  object \n",
      " 3   Soil                        80000 non-null  object \n",
      " 4   Category_of_Toxicant        80000 non-null  int64  \n",
      " 5   Does_count                  80000 non-null  int64  \n",
      " 6   Number_of_Weeks_Used        71945 non-null  float64\n",
      " 7   Number_Weeks_does_not used  80000 non-null  int64  \n",
      " 8   Season                      80000 non-null  int64  \n",
      " 9   Crop_status                 80000 non-null  int64  \n",
      "dtypes: float64(1), int64(7), object(2)\n",
      "memory usage: 6.1+ MB\n"
     ]
    }
   ],
   "source": [
    "train_data.info()"
   ]
  },
  {
   "cell_type": "code",
   "execution_count": 5,
   "id": "cf6bfca3",
   "metadata": {},
   "outputs": [
    {
     "data": {
      "text/plain": [
       "ID                            80000\n",
       "Insects                          71\n",
       "Crop                              2\n",
       "Soil                              2\n",
       "Category_of_Toxicant              3\n",
       "Does_count                       20\n",
       "Number_of_Weeks_Used             64\n",
       "Number_Weeks_does_not used       51\n",
       "Season                            3\n",
       "Crop_status                       3\n",
       "dtype: int64"
      ]
     },
     "execution_count": 5,
     "metadata": {},
     "output_type": "execute_result"
    }
   ],
   "source": [
    "train_data.nunique()"
   ]
  },
  {
   "cell_type": "code",
   "execution_count": 6,
   "id": "218876fb",
   "metadata": {},
   "outputs": [
    {
     "data": {
      "text/html": [
       "<div>\n",
       "<style scoped>\n",
       "    .dataframe tbody tr th:only-of-type {\n",
       "        vertical-align: middle;\n",
       "    }\n",
       "\n",
       "    .dataframe tbody tr th {\n",
       "        vertical-align: top;\n",
       "    }\n",
       "\n",
       "    .dataframe thead th {\n",
       "        text-align: right;\n",
       "    }\n",
       "</style>\n",
       "<table border=\"1\" class=\"dataframe\">\n",
       "  <thead>\n",
       "    <tr style=\"text-align: right;\">\n",
       "      <th></th>\n",
       "      <th>count</th>\n",
       "      <th>mean</th>\n",
       "      <th>std</th>\n",
       "      <th>min</th>\n",
       "      <th>1%</th>\n",
       "      <th>5%</th>\n",
       "      <th>10%</th>\n",
       "      <th>25%</th>\n",
       "      <th>50%</th>\n",
       "      <th>75%</th>\n",
       "      <th>90%</th>\n",
       "      <th>95%</th>\n",
       "      <th>96%</th>\n",
       "      <th>97%</th>\n",
       "      <th>98%</th>\n",
       "      <th>99%</th>\n",
       "      <th>max</th>\n",
       "    </tr>\n",
       "  </thead>\n",
       "  <tbody>\n",
       "    <tr>\n",
       "      <th>ID</th>\n",
       "      <td>80000.0</td>\n",
       "      <td>40000.500000</td>\n",
       "      <td>23094.155105</td>\n",
       "      <td>1.0</td>\n",
       "      <td>800.99</td>\n",
       "      <td>4000.95</td>\n",
       "      <td>8000.9</td>\n",
       "      <td>20000.75</td>\n",
       "      <td>40000.5</td>\n",
       "      <td>60000.25</td>\n",
       "      <td>72000.1</td>\n",
       "      <td>76000.05</td>\n",
       "      <td>76800.04</td>\n",
       "      <td>77600.03</td>\n",
       "      <td>78400.02</td>\n",
       "      <td>79200.01</td>\n",
       "      <td>80000.0</td>\n",
       "    </tr>\n",
       "    <tr>\n",
       "      <th>Insects</th>\n",
       "      <td>80000.0</td>\n",
       "      <td>1400.020875</td>\n",
       "      <td>849.792471</td>\n",
       "      <td>150.0</td>\n",
       "      <td>188.00</td>\n",
       "      <td>342.00</td>\n",
       "      <td>448.0</td>\n",
       "      <td>731.00</td>\n",
       "      <td>1212.0</td>\n",
       "      <td>1898.00</td>\n",
       "      <td>2688.0</td>\n",
       "      <td>2999.00</td>\n",
       "      <td>3165.00</td>\n",
       "      <td>3337.00</td>\n",
       "      <td>3516.00</td>\n",
       "      <td>3702.00</td>\n",
       "      <td>4097.0</td>\n",
       "    </tr>\n",
       "    <tr>\n",
       "      <th>Category_of_Toxicant</th>\n",
       "      <td>80000.0</td>\n",
       "      <td>2.267587</td>\n",
       "      <td>0.463748</td>\n",
       "      <td>1.0</td>\n",
       "      <td>2.00</td>\n",
       "      <td>2.00</td>\n",
       "      <td>2.0</td>\n",
       "      <td>2.00</td>\n",
       "      <td>2.0</td>\n",
       "      <td>3.00</td>\n",
       "      <td>3.0</td>\n",
       "      <td>3.00</td>\n",
       "      <td>3.00</td>\n",
       "      <td>3.00</td>\n",
       "      <td>3.00</td>\n",
       "      <td>3.00</td>\n",
       "      <td>3.0</td>\n",
       "    </tr>\n",
       "    <tr>\n",
       "      <th>Does_count</th>\n",
       "      <td>80000.0</td>\n",
       "      <td>25.846750</td>\n",
       "      <td>15.557246</td>\n",
       "      <td>0.0</td>\n",
       "      <td>5.00</td>\n",
       "      <td>5.00</td>\n",
       "      <td>10.0</td>\n",
       "      <td>15.00</td>\n",
       "      <td>20.0</td>\n",
       "      <td>40.00</td>\n",
       "      <td>50.0</td>\n",
       "      <td>60.00</td>\n",
       "      <td>60.00</td>\n",
       "      <td>60.00</td>\n",
       "      <td>60.00</td>\n",
       "      <td>70.00</td>\n",
       "      <td>95.0</td>\n",
       "    </tr>\n",
       "    <tr>\n",
       "      <th>Number_of_Weeks_Used</th>\n",
       "      <td>71945.0</td>\n",
       "      <td>28.664480</td>\n",
       "      <td>12.424751</td>\n",
       "      <td>0.0</td>\n",
       "      <td>5.00</td>\n",
       "      <td>10.00</td>\n",
       "      <td>13.0</td>\n",
       "      <td>20.00</td>\n",
       "      <td>28.0</td>\n",
       "      <td>37.00</td>\n",
       "      <td>46.0</td>\n",
       "      <td>50.00</td>\n",
       "      <td>51.00</td>\n",
       "      <td>53.00</td>\n",
       "      <td>55.00</td>\n",
       "      <td>58.00</td>\n",
       "      <td>67.0</td>\n",
       "    </tr>\n",
       "    <tr>\n",
       "      <th>Number_Weeks_does_not used</th>\n",
       "      <td>80000.0</td>\n",
       "      <td>9.549088</td>\n",
       "      <td>9.905547</td>\n",
       "      <td>0.0</td>\n",
       "      <td>0.00</td>\n",
       "      <td>0.00</td>\n",
       "      <td>0.0</td>\n",
       "      <td>0.00</td>\n",
       "      <td>7.0</td>\n",
       "      <td>16.00</td>\n",
       "      <td>24.0</td>\n",
       "      <td>29.00</td>\n",
       "      <td>30.00</td>\n",
       "      <td>32.00</td>\n",
       "      <td>34.00</td>\n",
       "      <td>37.00</td>\n",
       "      <td>50.0</td>\n",
       "    </tr>\n",
       "    <tr>\n",
       "      <th>Season</th>\n",
       "      <td>80000.0</td>\n",
       "      <td>1.897575</td>\n",
       "      <td>0.702079</td>\n",
       "      <td>1.0</td>\n",
       "      <td>1.00</td>\n",
       "      <td>1.00</td>\n",
       "      <td>1.0</td>\n",
       "      <td>1.00</td>\n",
       "      <td>2.0</td>\n",
       "      <td>2.00</td>\n",
       "      <td>3.0</td>\n",
       "      <td>3.00</td>\n",
       "      <td>3.00</td>\n",
       "      <td>3.00</td>\n",
       "      <td>3.00</td>\n",
       "      <td>3.00</td>\n",
       "      <td>3.0</td>\n",
       "    </tr>\n",
       "    <tr>\n",
       "      <th>Crop_status</th>\n",
       "      <td>80000.0</td>\n",
       "      <td>0.192312</td>\n",
       "      <td>0.455912</td>\n",
       "      <td>0.0</td>\n",
       "      <td>0.00</td>\n",
       "      <td>0.00</td>\n",
       "      <td>0.0</td>\n",
       "      <td>0.00</td>\n",
       "      <td>0.0</td>\n",
       "      <td>0.00</td>\n",
       "      <td>1.0</td>\n",
       "      <td>1.00</td>\n",
       "      <td>1.00</td>\n",
       "      <td>1.00</td>\n",
       "      <td>2.00</td>\n",
       "      <td>2.00</td>\n",
       "      <td>2.0</td>\n",
       "    </tr>\n",
       "  </tbody>\n",
       "</table>\n",
       "</div>"
      ],
      "text/plain": [
       "                              count          mean           std    min  \\\n",
       "ID                          80000.0  40000.500000  23094.155105    1.0   \n",
       "Insects                     80000.0   1400.020875    849.792471  150.0   \n",
       "Category_of_Toxicant        80000.0      2.267587      0.463748    1.0   \n",
       "Does_count                  80000.0     25.846750     15.557246    0.0   \n",
       "Number_of_Weeks_Used        71945.0     28.664480     12.424751    0.0   \n",
       "Number_Weeks_does_not used  80000.0      9.549088      9.905547    0.0   \n",
       "Season                      80000.0      1.897575      0.702079    1.0   \n",
       "Crop_status                 80000.0      0.192312      0.455912    0.0   \n",
       "\n",
       "                                1%       5%     10%       25%      50%  \\\n",
       "ID                          800.99  4000.95  8000.9  20000.75  40000.5   \n",
       "Insects                     188.00   342.00   448.0    731.00   1212.0   \n",
       "Category_of_Toxicant          2.00     2.00     2.0      2.00      2.0   \n",
       "Does_count                    5.00     5.00    10.0     15.00     20.0   \n",
       "Number_of_Weeks_Used          5.00    10.00    13.0     20.00     28.0   \n",
       "Number_Weeks_does_not used    0.00     0.00     0.0      0.00      7.0   \n",
       "Season                        1.00     1.00     1.0      1.00      2.0   \n",
       "Crop_status                   0.00     0.00     0.0      0.00      0.0   \n",
       "\n",
       "                                 75%      90%       95%       96%       97%  \\\n",
       "ID                          60000.25  72000.1  76000.05  76800.04  77600.03   \n",
       "Insects                      1898.00   2688.0   2999.00   3165.00   3337.00   \n",
       "Category_of_Toxicant            3.00      3.0      3.00      3.00      3.00   \n",
       "Does_count                     40.00     50.0     60.00     60.00     60.00   \n",
       "Number_of_Weeks_Used           37.00     46.0     50.00     51.00     53.00   \n",
       "Number_Weeks_does_not used     16.00     24.0     29.00     30.00     32.00   \n",
       "Season                          2.00      3.0      3.00      3.00      3.00   \n",
       "Crop_status                     0.00      1.0      1.00      1.00      1.00   \n",
       "\n",
       "                                 98%       99%      max  \n",
       "ID                          78400.02  79200.01  80000.0  \n",
       "Insects                      3516.00   3702.00   4097.0  \n",
       "Category_of_Toxicant            3.00      3.00      3.0  \n",
       "Does_count                     60.00     70.00     95.0  \n",
       "Number_of_Weeks_Used           55.00     58.00     67.0  \n",
       "Number_Weeks_does_not used     34.00     37.00     50.0  \n",
       "Season                          3.00      3.00      3.0  \n",
       "Crop_status                     2.00      2.00      2.0  "
      ]
     },
     "execution_count": 6,
     "metadata": {},
     "output_type": "execute_result"
    }
   ],
   "source": [
    "train_data.describe(percentiles=[0.01,0.05,0.10,0.25,0.50,0.75,0.90,0.95,0.96,0.97,0.98,0.99]).T"
   ]
  },
  {
   "cell_type": "code",
   "execution_count": 7,
   "id": "c056fc53",
   "metadata": {},
   "outputs": [
    {
     "data": {
      "text/plain": [
       "ID                               0\n",
       "Insects                          0\n",
       "Crop                             0\n",
       "Soil                             0\n",
       "Category_of_Toxicant             0\n",
       "Does_count                       0\n",
       "Number_of_Weeks_Used          8055\n",
       "Number_Weeks_does_not used       0\n",
       "Season                           0\n",
       "Crop_status                      0\n",
       "dtype: int64"
      ]
     },
     "execution_count": 7,
     "metadata": {},
     "output_type": "execute_result"
    }
   ],
   "source": [
    "train_data.isnull().sum()"
   ]
  },
  {
   "cell_type": "code",
   "execution_count": 8,
   "id": "b967f297",
   "metadata": {},
   "outputs": [
    {
     "data": {
      "text/html": [
       "<div>\n",
       "<style scoped>\n",
       "    .dataframe tbody tr th:only-of-type {\n",
       "        vertical-align: middle;\n",
       "    }\n",
       "\n",
       "    .dataframe tbody tr th {\n",
       "        vertical-align: top;\n",
       "    }\n",
       "\n",
       "    .dataframe thead th {\n",
       "        text-align: right;\n",
       "    }\n",
       "</style>\n",
       "<table border=\"1\" class=\"dataframe\">\n",
       "  <thead>\n",
       "    <tr style=\"text-align: right;\">\n",
       "      <th></th>\n",
       "      <th>ID</th>\n",
       "      <th>Insects</th>\n",
       "      <th>Crop</th>\n",
       "      <th>Soil</th>\n",
       "      <th>Category_of_Toxicant</th>\n",
       "      <th>Does_count</th>\n",
       "      <th>Number_of_Weeks_Used</th>\n",
       "      <th>Number_Weeks_does_not used</th>\n",
       "      <th>Season</th>\n",
       "      <th>Crop_status</th>\n",
       "    </tr>\n",
       "  </thead>\n",
       "  <tbody>\n",
       "    <tr>\n",
       "      <th>5</th>\n",
       "      <td>6</td>\n",
       "      <td>448</td>\n",
       "      <td>Food</td>\n",
       "      <td>silt</td>\n",
       "      <td>1</td>\n",
       "      <td>0</td>\n",
       "      <td>NaN</td>\n",
       "      <td>0</td>\n",
       "      <td>2</td>\n",
       "      <td>1</td>\n",
       "    </tr>\n",
       "    <tr>\n",
       "      <th>6</th>\n",
       "      <td>7</td>\n",
       "      <td>448</td>\n",
       "      <td>Food</td>\n",
       "      <td>silt</td>\n",
       "      <td>1</td>\n",
       "      <td>0</td>\n",
       "      <td>NaN</td>\n",
       "      <td>0</td>\n",
       "      <td>2</td>\n",
       "      <td>1</td>\n",
       "    </tr>\n",
       "    <tr>\n",
       "      <th>10</th>\n",
       "      <td>11</td>\n",
       "      <td>1212</td>\n",
       "      <td>Feed</td>\n",
       "      <td>clay</td>\n",
       "      <td>1</td>\n",
       "      <td>0</td>\n",
       "      <td>NaN</td>\n",
       "      <td>0</td>\n",
       "      <td>3</td>\n",
       "      <td>0</td>\n",
       "    </tr>\n",
       "    <tr>\n",
       "      <th>17</th>\n",
       "      <td>18</td>\n",
       "      <td>2401</td>\n",
       "      <td>Food</td>\n",
       "      <td>silt</td>\n",
       "      <td>1</td>\n",
       "      <td>0</td>\n",
       "      <td>NaN</td>\n",
       "      <td>0</td>\n",
       "      <td>1</td>\n",
       "      <td>1</td>\n",
       "    </tr>\n",
       "    <tr>\n",
       "      <th>35</th>\n",
       "      <td>36</td>\n",
       "      <td>257</td>\n",
       "      <td>Food</td>\n",
       "      <td>clay</td>\n",
       "      <td>3</td>\n",
       "      <td>30</td>\n",
       "      <td>NaN</td>\n",
       "      <td>0</td>\n",
       "      <td>2</td>\n",
       "      <td>0</td>\n",
       "    </tr>\n",
       "    <tr>\n",
       "      <th>...</th>\n",
       "      <td>...</td>\n",
       "      <td>...</td>\n",
       "      <td>...</td>\n",
       "      <td>...</td>\n",
       "      <td>...</td>\n",
       "      <td>...</td>\n",
       "      <td>...</td>\n",
       "      <td>...</td>\n",
       "      <td>...</td>\n",
       "      <td>...</td>\n",
       "    </tr>\n",
       "    <tr>\n",
       "      <th>79925</th>\n",
       "      <td>79926</td>\n",
       "      <td>2688</td>\n",
       "      <td>Food</td>\n",
       "      <td>clay</td>\n",
       "      <td>2</td>\n",
       "      <td>20</td>\n",
       "      <td>NaN</td>\n",
       "      <td>21</td>\n",
       "      <td>3</td>\n",
       "      <td>1</td>\n",
       "    </tr>\n",
       "    <tr>\n",
       "      <th>79928</th>\n",
       "      <td>79929</td>\n",
       "      <td>2688</td>\n",
       "      <td>Food</td>\n",
       "      <td>clay</td>\n",
       "      <td>2</td>\n",
       "      <td>20</td>\n",
       "      <td>NaN</td>\n",
       "      <td>10</td>\n",
       "      <td>1</td>\n",
       "      <td>1</td>\n",
       "    </tr>\n",
       "    <tr>\n",
       "      <th>79954</th>\n",
       "      <td>79955</td>\n",
       "      <td>2999</td>\n",
       "      <td>Food</td>\n",
       "      <td>clay</td>\n",
       "      <td>2</td>\n",
       "      <td>20</td>\n",
       "      <td>NaN</td>\n",
       "      <td>37</td>\n",
       "      <td>2</td>\n",
       "      <td>1</td>\n",
       "    </tr>\n",
       "    <tr>\n",
       "      <th>79962</th>\n",
       "      <td>79963</td>\n",
       "      <td>3165</td>\n",
       "      <td>Food</td>\n",
       "      <td>clay</td>\n",
       "      <td>2</td>\n",
       "      <td>30</td>\n",
       "      <td>NaN</td>\n",
       "      <td>4</td>\n",
       "      <td>1</td>\n",
       "      <td>0</td>\n",
       "    </tr>\n",
       "    <tr>\n",
       "      <th>79976</th>\n",
       "      <td>79977</td>\n",
       "      <td>3337</td>\n",
       "      <td>Food</td>\n",
       "      <td>clay</td>\n",
       "      <td>2</td>\n",
       "      <td>20</td>\n",
       "      <td>NaN</td>\n",
       "      <td>10</td>\n",
       "      <td>1</td>\n",
       "      <td>1</td>\n",
       "    </tr>\n",
       "  </tbody>\n",
       "</table>\n",
       "<p>8055 rows × 10 columns</p>\n",
       "</div>"
      ],
      "text/plain": [
       "          ID  Insects  Crop  Soil  Category_of_Toxicant  Does_count  \\\n",
       "5          6      448  Food  silt                     1           0   \n",
       "6          7      448  Food  silt                     1           0   \n",
       "10        11     1212  Feed  clay                     1           0   \n",
       "17        18     2401  Food  silt                     1           0   \n",
       "35        36      257  Food  clay                     3          30   \n",
       "...      ...      ...   ...   ...                   ...         ...   \n",
       "79925  79926     2688  Food  clay                     2          20   \n",
       "79928  79929     2688  Food  clay                     2          20   \n",
       "79954  79955     2999  Food  clay                     2          20   \n",
       "79962  79963     3165  Food  clay                     2          30   \n",
       "79976  79977     3337  Food  clay                     2          20   \n",
       "\n",
       "       Number_of_Weeks_Used  Number_Weeks_does_not used  Season  Crop_status  \n",
       "5                       NaN                           0       2            1  \n",
       "6                       NaN                           0       2            1  \n",
       "10                      NaN                           0       3            0  \n",
       "17                      NaN                           0       1            1  \n",
       "35                      NaN                           0       2            0  \n",
       "...                     ...                         ...     ...          ...  \n",
       "79925                   NaN                          21       3            1  \n",
       "79928                   NaN                          10       1            1  \n",
       "79954                   NaN                          37       2            1  \n",
       "79962                   NaN                           4       1            0  \n",
       "79976                   NaN                          10       1            1  \n",
       "\n",
       "[8055 rows x 10 columns]"
      ]
     },
     "execution_count": 8,
     "metadata": {},
     "output_type": "execute_result"
    }
   ],
   "source": [
    "# Checking if missing values have somthing in common and the basic reason for these much missing values.\n",
    "missing= train_data[train_data['Number_of_Weeks_Used'].isnull()]\n",
    "missing"
   ]
  },
  {
   "cell_type": "code",
   "execution_count": 9,
   "id": "b11022de",
   "metadata": {},
   "outputs": [
    {
     "data": {
      "text/plain": [
       "ID                            8055\n",
       "Insects                         71\n",
       "Crop                             2\n",
       "Soil                             2\n",
       "Category_of_Toxicant             3\n",
       "Does_count                      19\n",
       "Number_of_Weeks_Used             0\n",
       "Number_Weeks_does_not used      49\n",
       "Season                           3\n",
       "Crop_status                      3\n",
       "dtype: int64"
      ]
     },
     "execution_count": 9,
     "metadata": {},
     "output_type": "execute_result"
    }
   ],
   "source": [
    "missing.nunique()"
   ]
  },
  {
   "cell_type": "code",
   "execution_count": 10,
   "id": "e55d608a",
   "metadata": {},
   "outputs": [],
   "source": [
    "# Since there is no exact relation which could be seen for missing values so using mean/median , they both are same 28."
   ]
  },
  {
   "cell_type": "code",
   "execution_count": 11,
   "id": "e5fa5205",
   "metadata": {},
   "outputs": [],
   "source": [
    "train_data['Number_of_Weeks_Used'] = train_data['Number_of_Weeks_Used'].fillna(28)"
   ]
  },
  {
   "cell_type": "markdown",
   "id": "90689f8e",
   "metadata": {},
   "source": [
    "#### Test data"
   ]
  },
  {
   "cell_type": "code",
   "execution_count": 12,
   "id": "f22ce5ed",
   "metadata": {},
   "outputs": [
    {
     "data": {
      "text/html": [
       "<div>\n",
       "<style scoped>\n",
       "    .dataframe tbody tr th:only-of-type {\n",
       "        vertical-align: middle;\n",
       "    }\n",
       "\n",
       "    .dataframe tbody tr th {\n",
       "        vertical-align: top;\n",
       "    }\n",
       "\n",
       "    .dataframe thead th {\n",
       "        text-align: right;\n",
       "    }\n",
       "</style>\n",
       "<table border=\"1\" class=\"dataframe\">\n",
       "  <thead>\n",
       "    <tr style=\"text-align: right;\">\n",
       "      <th></th>\n",
       "      <th>ID</th>\n",
       "      <th>Insects</th>\n",
       "      <th>Crop</th>\n",
       "      <th>Soil</th>\n",
       "      <th>Category_of_Toxicant</th>\n",
       "      <th>Does_count</th>\n",
       "      <th>Number_of_Weeks_Used</th>\n",
       "      <th>Number_Weeks_does_not used</th>\n",
       "      <th>Season</th>\n",
       "    </tr>\n",
       "  </thead>\n",
       "  <tbody>\n",
       "    <tr>\n",
       "      <th>0</th>\n",
       "      <td>1</td>\n",
       "      <td>188</td>\n",
       "      <td>Feed</td>\n",
       "      <td>silt</td>\n",
       "      <td>1</td>\n",
       "      <td>0</td>\n",
       "      <td>NaN</td>\n",
       "      <td>0</td>\n",
       "      <td>2</td>\n",
       "    </tr>\n",
       "    <tr>\n",
       "      <th>1</th>\n",
       "      <td>2</td>\n",
       "      <td>410</td>\n",
       "      <td>Feed</td>\n",
       "      <td>silt</td>\n",
       "      <td>1</td>\n",
       "      <td>0</td>\n",
       "      <td>0.0</td>\n",
       "      <td>0</td>\n",
       "      <td>2</td>\n",
       "    </tr>\n",
       "    <tr>\n",
       "      <th>2</th>\n",
       "      <td>3</td>\n",
       "      <td>626</td>\n",
       "      <td>Feed</td>\n",
       "      <td>clay</td>\n",
       "      <td>1</td>\n",
       "      <td>0</td>\n",
       "      <td>0.0</td>\n",
       "      <td>0</td>\n",
       "      <td>2</td>\n",
       "    </tr>\n",
       "    <tr>\n",
       "      <th>3</th>\n",
       "      <td>4</td>\n",
       "      <td>731</td>\n",
       "      <td>Feed</td>\n",
       "      <td>clay</td>\n",
       "      <td>1</td>\n",
       "      <td>0</td>\n",
       "      <td>0.0</td>\n",
       "      <td>0</td>\n",
       "      <td>2</td>\n",
       "    </tr>\n",
       "    <tr>\n",
       "      <th>4</th>\n",
       "      <td>5</td>\n",
       "      <td>789</td>\n",
       "      <td>Food</td>\n",
       "      <td>clay</td>\n",
       "      <td>1</td>\n",
       "      <td>0</td>\n",
       "      <td>0.0</td>\n",
       "      <td>0</td>\n",
       "      <td>1</td>\n",
       "    </tr>\n",
       "  </tbody>\n",
       "</table>\n",
       "</div>"
      ],
      "text/plain": [
       "   ID  Insects  Crop  Soil  Category_of_Toxicant  Does_count  \\\n",
       "0   1      188  Feed  silt                     1           0   \n",
       "1   2      410  Feed  silt                     1           0   \n",
       "2   3      626  Feed  clay                     1           0   \n",
       "3   4      731  Feed  clay                     1           0   \n",
       "4   5      789  Food  clay                     1           0   \n",
       "\n",
       "   Number_of_Weeks_Used  Number_Weeks_does_not used  Season  \n",
       "0                   NaN                           0       2  \n",
       "1                   0.0                           0       2  \n",
       "2                   0.0                           0       2  \n",
       "3                   0.0                           0       2  \n",
       "4                   0.0                           0       1  "
      ]
     },
     "execution_count": 12,
     "metadata": {},
     "output_type": "execute_result"
    }
   ],
   "source": [
    "test_data = pd.read_excel(r'C:\\Users\\dell\\Python\\stage 2\\test.xlsx')\n",
    "test_data.head()"
   ]
  },
  {
   "cell_type": "code",
   "execution_count": 14,
   "id": "55c33f8c",
   "metadata": {},
   "outputs": [
    {
     "data": {
      "text/plain": [
       "(35000, 9)"
      ]
     },
     "execution_count": 14,
     "metadata": {},
     "output_type": "execute_result"
    }
   ],
   "source": [
    "test_data.shape"
   ]
  },
  {
   "cell_type": "code",
   "execution_count": 13,
   "id": "33b3b086",
   "metadata": {},
   "outputs": [
    {
     "data": {
      "text/plain": [
       "ID                               0\n",
       "Insects                          0\n",
       "Crop                             0\n",
       "Soil                             0\n",
       "Category_of_Toxicant             0\n",
       "Does_count                       0\n",
       "Number_of_Weeks_Used          3542\n",
       "Number_Weeks_does_not used       0\n",
       "Season                           0\n",
       "dtype: int64"
      ]
     },
     "execution_count": 13,
     "metadata": {},
     "output_type": "execute_result"
    }
   ],
   "source": [
    "test_data.isnull().sum()"
   ]
  },
  {
   "cell_type": "code",
   "execution_count": 15,
   "id": "b6552267",
   "metadata": {},
   "outputs": [
    {
     "data": {
      "text/html": [
       "<div>\n",
       "<style scoped>\n",
       "    .dataframe tbody tr th:only-of-type {\n",
       "        vertical-align: middle;\n",
       "    }\n",
       "\n",
       "    .dataframe tbody tr th {\n",
       "        vertical-align: top;\n",
       "    }\n",
       "\n",
       "    .dataframe thead th {\n",
       "        text-align: right;\n",
       "    }\n",
       "</style>\n",
       "<table border=\"1\" class=\"dataframe\">\n",
       "  <thead>\n",
       "    <tr style=\"text-align: right;\">\n",
       "      <th></th>\n",
       "      <th>count</th>\n",
       "      <th>mean</th>\n",
       "      <th>std</th>\n",
       "      <th>min</th>\n",
       "      <th>1%</th>\n",
       "      <th>5%</th>\n",
       "      <th>10%</th>\n",
       "      <th>25%</th>\n",
       "      <th>50%</th>\n",
       "      <th>75%</th>\n",
       "      <th>90%</th>\n",
       "      <th>95%</th>\n",
       "      <th>96%</th>\n",
       "      <th>97%</th>\n",
       "      <th>98%</th>\n",
       "      <th>99%</th>\n",
       "      <th>max</th>\n",
       "    </tr>\n",
       "  </thead>\n",
       "  <tbody>\n",
       "    <tr>\n",
       "      <th>ID</th>\n",
       "      <td>35000.0</td>\n",
       "      <td>17500.500000</td>\n",
       "      <td>10103.774047</td>\n",
       "      <td>1.0</td>\n",
       "      <td>350.99</td>\n",
       "      <td>1750.95</td>\n",
       "      <td>3500.9</td>\n",
       "      <td>8750.75</td>\n",
       "      <td>17500.5</td>\n",
       "      <td>26250.25</td>\n",
       "      <td>31500.1</td>\n",
       "      <td>33250.05</td>\n",
       "      <td>33600.04</td>\n",
       "      <td>33950.03</td>\n",
       "      <td>34300.02</td>\n",
       "      <td>34650.01</td>\n",
       "      <td>35000.0</td>\n",
       "    </tr>\n",
       "    <tr>\n",
       "      <th>Insects</th>\n",
       "      <td>35000.0</td>\n",
       "      <td>1394.015343</td>\n",
       "      <td>849.471207</td>\n",
       "      <td>150.0</td>\n",
       "      <td>188.00</td>\n",
       "      <td>342.00</td>\n",
       "      <td>448.0</td>\n",
       "      <td>731.00</td>\n",
       "      <td>1212.0</td>\n",
       "      <td>1898.00</td>\n",
       "      <td>2688.0</td>\n",
       "      <td>2999.00</td>\n",
       "      <td>3164.00</td>\n",
       "      <td>3337.00</td>\n",
       "      <td>3516.00</td>\n",
       "      <td>3702.00</td>\n",
       "      <td>4097.0</td>\n",
       "    </tr>\n",
       "    <tr>\n",
       "      <th>Category_of_Toxicant</th>\n",
       "      <td>35000.0</td>\n",
       "      <td>2.268514</td>\n",
       "      <td>0.465701</td>\n",
       "      <td>1.0</td>\n",
       "      <td>1.00</td>\n",
       "      <td>2.00</td>\n",
       "      <td>2.0</td>\n",
       "      <td>2.00</td>\n",
       "      <td>2.0</td>\n",
       "      <td>3.00</td>\n",
       "      <td>3.0</td>\n",
       "      <td>3.00</td>\n",
       "      <td>3.00</td>\n",
       "      <td>3.00</td>\n",
       "      <td>3.00</td>\n",
       "      <td>3.00</td>\n",
       "      <td>3.0</td>\n",
       "    </tr>\n",
       "    <tr>\n",
       "      <th>Does_count</th>\n",
       "      <td>35000.0</td>\n",
       "      <td>25.876429</td>\n",
       "      <td>15.535749</td>\n",
       "      <td>0.0</td>\n",
       "      <td>0.00</td>\n",
       "      <td>5.00</td>\n",
       "      <td>10.0</td>\n",
       "      <td>15.00</td>\n",
       "      <td>20.0</td>\n",
       "      <td>40.00</td>\n",
       "      <td>50.0</td>\n",
       "      <td>60.00</td>\n",
       "      <td>60.00</td>\n",
       "      <td>60.00</td>\n",
       "      <td>60.00</td>\n",
       "      <td>70.00</td>\n",
       "      <td>95.0</td>\n",
       "    </tr>\n",
       "    <tr>\n",
       "      <th>Number_of_Weeks_Used</th>\n",
       "      <td>31458.0</td>\n",
       "      <td>28.775701</td>\n",
       "      <td>12.438473</td>\n",
       "      <td>0.0</td>\n",
       "      <td>0.00</td>\n",
       "      <td>10.00</td>\n",
       "      <td>13.0</td>\n",
       "      <td>20.00</td>\n",
       "      <td>28.0</td>\n",
       "      <td>38.00</td>\n",
       "      <td>46.0</td>\n",
       "      <td>50.00</td>\n",
       "      <td>52.00</td>\n",
       "      <td>53.00</td>\n",
       "      <td>55.00</td>\n",
       "      <td>58.00</td>\n",
       "      <td>67.0</td>\n",
       "    </tr>\n",
       "    <tr>\n",
       "      <th>Number_Weeks_does_not used</th>\n",
       "      <td>35000.0</td>\n",
       "      <td>9.414886</td>\n",
       "      <td>9.820158</td>\n",
       "      <td>0.0</td>\n",
       "      <td>0.00</td>\n",
       "      <td>0.00</td>\n",
       "      <td>0.0</td>\n",
       "      <td>0.00</td>\n",
       "      <td>7.0</td>\n",
       "      <td>16.00</td>\n",
       "      <td>24.0</td>\n",
       "      <td>29.00</td>\n",
       "      <td>30.00</td>\n",
       "      <td>32.00</td>\n",
       "      <td>34.00</td>\n",
       "      <td>37.00</td>\n",
       "      <td>50.0</td>\n",
       "    </tr>\n",
       "    <tr>\n",
       "      <th>Season</th>\n",
       "      <td>35000.0</td>\n",
       "      <td>1.900200</td>\n",
       "      <td>0.701690</td>\n",
       "      <td>1.0</td>\n",
       "      <td>1.00</td>\n",
       "      <td>1.00</td>\n",
       "      <td>1.0</td>\n",
       "      <td>1.00</td>\n",
       "      <td>2.0</td>\n",
       "      <td>2.00</td>\n",
       "      <td>3.0</td>\n",
       "      <td>3.00</td>\n",
       "      <td>3.00</td>\n",
       "      <td>3.00</td>\n",
       "      <td>3.00</td>\n",
       "      <td>3.00</td>\n",
       "      <td>3.0</td>\n",
       "    </tr>\n",
       "  </tbody>\n",
       "</table>\n",
       "</div>"
      ],
      "text/plain": [
       "                              count          mean           std    min  \\\n",
       "ID                          35000.0  17500.500000  10103.774047    1.0   \n",
       "Insects                     35000.0   1394.015343    849.471207  150.0   \n",
       "Category_of_Toxicant        35000.0      2.268514      0.465701    1.0   \n",
       "Does_count                  35000.0     25.876429     15.535749    0.0   \n",
       "Number_of_Weeks_Used        31458.0     28.775701     12.438473    0.0   \n",
       "Number_Weeks_does_not used  35000.0      9.414886      9.820158    0.0   \n",
       "Season                      35000.0      1.900200      0.701690    1.0   \n",
       "\n",
       "                                1%       5%     10%      25%      50%  \\\n",
       "ID                          350.99  1750.95  3500.9  8750.75  17500.5   \n",
       "Insects                     188.00   342.00   448.0   731.00   1212.0   \n",
       "Category_of_Toxicant          1.00     2.00     2.0     2.00      2.0   \n",
       "Does_count                    0.00     5.00    10.0    15.00     20.0   \n",
       "Number_of_Weeks_Used          0.00    10.00    13.0    20.00     28.0   \n",
       "Number_Weeks_does_not used    0.00     0.00     0.0     0.00      7.0   \n",
       "Season                        1.00     1.00     1.0     1.00      2.0   \n",
       "\n",
       "                                 75%      90%       95%       96%       97%  \\\n",
       "ID                          26250.25  31500.1  33250.05  33600.04  33950.03   \n",
       "Insects                      1898.00   2688.0   2999.00   3164.00   3337.00   \n",
       "Category_of_Toxicant            3.00      3.0      3.00      3.00      3.00   \n",
       "Does_count                     40.00     50.0     60.00     60.00     60.00   \n",
       "Number_of_Weeks_Used           38.00     46.0     50.00     52.00     53.00   \n",
       "Number_Weeks_does_not used     16.00     24.0     29.00     30.00     32.00   \n",
       "Season                          2.00      3.0      3.00      3.00      3.00   \n",
       "\n",
       "                                 98%       99%      max  \n",
       "ID                          34300.02  34650.01  35000.0  \n",
       "Insects                      3516.00   3702.00   4097.0  \n",
       "Category_of_Toxicant            3.00      3.00      3.0  \n",
       "Does_count                     60.00     70.00     95.0  \n",
       "Number_of_Weeks_Used           55.00     58.00     67.0  \n",
       "Number_Weeks_does_not used     34.00     37.00     50.0  \n",
       "Season                          3.00      3.00      3.0  "
      ]
     },
     "execution_count": 15,
     "metadata": {},
     "output_type": "execute_result"
    }
   ],
   "source": [
    "test_data.describe(percentiles=[0.01,0.05,0.10,0.25,0.50,0.75,0.90,0.95,0.96,0.97,0.98,0.99]).T"
   ]
  },
  {
   "cell_type": "code",
   "execution_count": 16,
   "id": "6af74f7c",
   "metadata": {},
   "outputs": [],
   "source": [
    "test_data['Number_of_Weeks_Used'] = test_data['Number_of_Weeks_Used'].fillna(28)"
   ]
  },
  {
   "cell_type": "markdown",
   "id": "c9b30929",
   "metadata": {},
   "source": [
    "##### Univariate analysis"
   ]
  },
  {
   "cell_type": "code",
   "execution_count": 71,
   "id": "4724e74f",
   "metadata": {},
   "outputs": [
    {
     "name": "stdout",
     "output_type": "stream",
     "text": [
      "1    57333\n",
      "0    22667\n",
      "Name: Crop, dtype: int64\n"
     ]
    },
    {
     "name": "stderr",
     "output_type": "stream",
     "text": [
      "No handles with labels found to put in legend.\n"
     ]
    },
    {
     "data": {
      "text/plain": [
       "<matplotlib.legend.Legend at 0x15acf957970>"
      ]
     },
     "execution_count": 71,
     "metadata": {},
     "output_type": "execute_result"
    },
    {
     "data": {
      "image/png": "[encoded data removed]",
      "text/plain": [
       "<Figure size 720x432 with 1 Axes>"
      ]
     },
     "metadata": {
      "needs_background": "light"
     },
     "output_type": "display_data"
    }
   ],
   "source": [
    "print(train_data['Crop'].value_counts())\n",
    "plt.figure(figsize=(10,6))\n",
    "eda_percentage = train_data['Crop'].value_counts(normalize = True).rename_axis('Crop').reset_index(name = 'Percentage')\n",
    "ax = sns.barplot(x = 'Crop', y = 'Percentage', data = eda_percentage, palette = 'Purples')\n",
    "for p in ax.patches:\n",
    "    width = p.get_width()\n",
    "    height = p.get_height()\n",
    "    x, y = p.get_xy() \n",
    "    ax.annotate(f'{height:.0%}', (x + width/2, y + height*1.02), ha='center', fontweight='bold')\n",
    "\n",
    "plt.title('Crop count', fontsize=18, fontweight='bold')\n",
    "plt.xticks(fontsize=16)\n",
    "plt.yticks(fontsize=16)\n",
    "plt.legend(fontsize=16)"
   ]
  },
  {
   "cell_type": "code",
   "execution_count": 72,
   "id": "68997fd0",
   "metadata": {},
   "outputs": [
    {
     "name": "stderr",
     "output_type": "stream",
     "text": [
      "No handles with labels found to put in legend.\n"
     ]
    },
    {
     "name": "stdout",
     "output_type": "stream",
     "text": [
      "0    43556\n",
      "1    36444\n",
      "Name: Soil, dtype: int64\n"
     ]
    },
    {
     "data": {
      "text/plain": [
       "<matplotlib.legend.Legend at 0x15acda1cfa0>"
      ]
     },
     "execution_count": 72,
     "metadata": {},
     "output_type": "execute_result"
    },
    {
     "data": {
      "image/png": "[encoded data removed]",
      "text/plain": [
       "<Figure size 720x432 with 1 Axes>"
      ]
     },
     "metadata": {
      "needs_background": "light"
     },
     "output_type": "display_data"
    }
   ],
   "source": [
    "print(train_data['Soil'].value_counts())\n",
    "plt.figure(figsize=(10,6))\n",
    "eda_percentage = train_data['Soil'].value_counts(normalize = True).rename_axis('Soil').reset_index(name = 'Percentage')\n",
    "ax = sns.barplot(x = 'Soil', y = 'Percentage', data = eda_percentage, palette = 'Purples')\n",
    "for p in ax.patches:\n",
    "    width = p.get_width()\n",
    "    height = p.get_height()\n",
    "    x, y = p.get_xy() \n",
    "    ax.annotate(f'{height:.0%}', (x + width/2, y + height*1.02), ha='center', fontweight='bold')\n",
    "\n",
    "plt.title('Soil type count', fontsize=18, fontweight='bold')\n",
    "plt.xticks(fontsize=16)\n",
    "plt.yticks(fontsize=16)\n",
    "plt.legend(fontsize=16)"
   ]
  },
  {
   "cell_type": "code",
   "execution_count": 73,
   "id": "493751cc",
   "metadata": {},
   "outputs": [
    {
     "name": "stderr",
     "output_type": "stream",
     "text": [
      "No handles with labels found to put in legend.\n"
     ]
    },
    {
     "name": "stdout",
     "output_type": "stream",
     "text": [
      "2    57067\n",
      "3    22170\n",
      "1      763\n",
      "Name: Category_of_Toxicant, dtype: int64\n"
     ]
    },
    {
     "data": {
      "text/plain": [
       "<matplotlib.legend.Legend at 0x15acd970df0>"
      ]
     },
     "execution_count": 73,
     "metadata": {},
     "output_type": "execute_result"
    },
    {
     "data": {
      "image/png": "[encoded data removed]",
      "text/plain": [
       "<Figure size 720x432 with 1 Axes>"
      ]
     },
     "metadata": {
      "needs_background": "light"
     },
     "output_type": "display_data"
    }
   ],
   "source": [
    "print(train_data['Category_of_Toxicant'].value_counts())\n",
    "plt.figure(figsize=(10,6))\n",
    "eda_percentage = train_data['Category_of_Toxicant'].value_counts(normalize = True).rename_axis('Category_of_Toxicant').reset_index(name = 'Percentage')\n",
    "ax = sns.barplot(x = 'Category_of_Toxicant', y = 'Percentage', data = eda_percentage, palette = 'Purples')\n",
    "for p in ax.patches:\n",
    "    width = p.get_width()\n",
    "    height = p.get_height()\n",
    "    x, y = p.get_xy() \n",
    "    ax.annotate(f'{height:.0%}', (x + width/2, y + height*1.02), ha='center', fontweight='bold')\n",
    "\n",
    "plt.title('Category_of_Toxicant count', fontsize=18, fontweight='bold')\n",
    "plt.xticks(fontsize=16)\n",
    "plt.yticks(fontsize=16)\n",
    "plt.legend(fontsize=16)"
   ]
  },
  {
   "cell_type": "code",
   "execution_count": 74,
   "id": "048bb8b4",
   "metadata": {},
   "outputs": [
    {
     "name": "stderr",
     "output_type": "stream",
     "text": [
      "No handles with labels found to put in legend.\n"
     ]
    },
    {
     "name": "stdout",
     "output_type": "stream",
     "text": [
      "20    20344\n",
      "40    11040\n",
      "10    10881\n",
      "30     9388\n",
      "15     7405\n",
      "5      4962\n",
      "25     4396\n",
      "60     3932\n",
      "50     3056\n",
      "35     1654\n",
      "45      829\n",
      "0       763\n",
      "80      602\n",
      "70      274\n",
      "55      250\n",
      "90       78\n",
      "65       57\n",
      "75       55\n",
      "95       28\n",
      "85        6\n",
      "Name: Does_count, dtype: int64\n"
     ]
    },
    {
     "data": {
      "text/plain": [
       "<matplotlib.legend.Legend at 0x15acc082430>"
      ]
     },
     "execution_count": 74,
     "metadata": {},
     "output_type": "execute_result"
    },
    {
     "data": {
      "image/png": "[encoded data removed]",
      "text/plain": [
       "<Figure size 720x432 with 1 Axes>"
      ]
     },
     "metadata": {
      "needs_background": "light"
     },
     "output_type": "display_data"
    }
   ],
   "source": [
    "print(train_data['Does_count'].value_counts())\n",
    "plt.figure(figsize=(10,6))\n",
    "eda_percentage = train_data['Does_count'].value_counts(normalize = True).rename_axis('Does_count').reset_index(name = 'Percentage')\n",
    "ax = sns.barplot(x = 'Does_count', y = 'Percentage', data = eda_percentage, palette = 'Purples')\n",
    "for p in ax.patches:\n",
    "    width = p.get_width()\n",
    "    height = p.get_height()\n",
    "    x, y = p.get_xy() \n",
    "    ax.annotate(f'{height:.0%}', (x + width/2, y + height*1.02), ha='center', fontweight='bold')\n",
    "\n",
    "plt.title('Does_count', fontsize=18, fontweight='bold')\n",
    "plt.xticks(fontsize=16)\n",
    "plt.yticks(fontsize=16)\n",
    "plt.legend(fontsize=16)"
   ]
  },
  {
   "cell_type": "code",
   "execution_count": 75,
   "id": "4365282c",
   "metadata": {},
   "outputs": [
    {
     "name": "stderr",
     "output_type": "stream",
     "text": [
      "No handles with labels found to put in legend.\n"
     ]
    },
    {
     "name": "stdout",
     "output_type": "stream",
     "text": [
      "2    39728\n",
      "1    24233\n",
      "3    16039\n",
      "Name: Season, dtype: int64\n"
     ]
    },
    {
     "data": {
      "text/plain": [
       "<matplotlib.legend.Legend at 0x15acda7af40>"
      ]
     },
     "execution_count": 75,
     "metadata": {},
     "output_type": "execute_result"
    },
    {
     "data": {
      "image/png": "[encoded data removed]",
      "text/plain": [
       "<Figure size 720x432 with 1 Axes>"
      ]
     },
     "metadata": {
      "needs_background": "light"
     },
     "output_type": "display_data"
    }
   ],
   "source": [
    "print(train_data['Season'].value_counts())\n",
    "plt.figure(figsize=(10,6))\n",
    "eda_percentage = train_data['Season'].value_counts(normalize = True).rename_axis('Season').reset_index(name = 'Percentage')\n",
    "ax = sns.barplot(x = 'Season', y = 'Percentage', data = eda_percentage, palette = 'Purples')\n",
    "for p in ax.patches:\n",
    "    width = p.get_width()\n",
    "    height = p.get_height()\n",
    "    x, y = p.get_xy() \n",
    "    ax.annotate(f'{height:.0%}', (x + width/2, y + height*1.02), ha='center', fontweight='bold')\n",
    "\n",
    "plt.title('Season count', fontsize=18, fontweight='bold')\n",
    "plt.xticks(fontsize=16)\n",
    "plt.yticks(fontsize=16)\n",
    "plt.legend(fontsize=16)"
   ]
  },
  {
   "cell_type": "code",
   "execution_count": 76,
   "id": "ea77c0fb",
   "metadata": {},
   "outputs": [
    {
     "name": "stdout",
     "output_type": "stream",
     "text": [
      "0    66716\n",
      "1    11183\n",
      "2     2101\n",
      "Name: Crop_status, dtype: int64\n"
     ]
    },
    {
     "name": "stderr",
     "output_type": "stream",
     "text": [
      "No handles with labels found to put in legend.\n"
     ]
    },
    {
     "data": {
      "text/plain": [
       "<matplotlib.legend.Legend at 0x15acdde9a60>"
      ]
     },
     "execution_count": 76,
     "metadata": {},
     "output_type": "execute_result"
    },
    {
     "data": {
      "image/png": "[encoded data removed]",
      "text/plain": [
       "<Figure size 720x432 with 1 Axes>"
      ]
     },
     "metadata": {
      "needs_background": "light"
     },
     "output_type": "display_data"
    }
   ],
   "source": [
    "print(train_data['Crop_status'].value_counts())\n",
    "plt.figure(figsize=(10,6))\n",
    "eda_percentage = train_data['Crop_status'].value_counts(normalize = True).rename_axis('Crop_status').reset_index(name = 'Percentage')\n",
    "ax = sns.barplot(x = 'Crop_status', y = 'Percentage', data = eda_percentage, palette = 'Purples')\n",
    "for p in ax.patches:\n",
    "    width = p.get_width()\n",
    "    height = p.get_height()\n",
    "    x, y = p.get_xy() \n",
    "    ax.annotate(f'{height:.0%}', (x + width/2, y + height*1.02), ha='center', fontweight='bold')\n",
    "\n",
    "plt.title('Crop_status count', fontsize=18, fontweight='bold')\n",
    "plt.xticks(fontsize=16)\n",
    "plt.yticks(fontsize=16)\n",
    "plt.legend(fontsize=16)"
   ]
  },
  {
   "cell_type": "markdown",
   "id": "a4054722",
   "metadata": {},
   "source": [
    "##### Bivariate analysis"
   ]
  },
  {
   "cell_type": "code",
   "execution_count": 77,
   "id": "29bde40b",
   "metadata": {},
   "outputs": [
    {
     "name": "stderr",
     "output_type": "stream",
     "text": [
      "C:\\Users\\dell\\anaconda3\\lib\\site-packages\\seaborn\\_decorators.py:36: FutureWarning: Pass the following variable as a keyword arg: x. From version 0.12, the only valid positional argument will be `data`, and passing other arguments without an explicit keyword will result in an error or misinterpretation.\n",
      "  warnings.warn(\n"
     ]
    },
    {
     "data": {
      "text/plain": [
       "<matplotlib.legend.Legend at 0x15acda71850>"
      ]
     },
     "execution_count": 77,
     "metadata": {},
     "output_type": "execute_result"
    },
    {
     "data": {
      "image/png": "[encoded data removed]",
      "text/plain": [
       "<Figure size 1440x360 with 1 Axes>"
      ]
     },
     "metadata": {
      "needs_background": "light"
     },
     "output_type": "display_data"
    }
   ],
   "source": [
    "plt.figure(figsize=(20,5))\n",
    "sns.countplot(train_data['Crop'], hue = train_data['Crop_status'], palette = 'Purples')\n",
    "plt.title('Crop_wise crop status',  fontsize=18, fontweight='bold')\n",
    "plt.xticks(fontsize=16)\n",
    "plt.yticks(fontsize=16)\n",
    "plt.legend(fontsize=16)"
   ]
  },
  {
   "cell_type": "code",
   "execution_count": 78,
   "id": "f85ded0f",
   "metadata": {},
   "outputs": [
    {
     "name": "stderr",
     "output_type": "stream",
     "text": [
      "C:\\Users\\dell\\anaconda3\\lib\\site-packages\\seaborn\\_decorators.py:36: FutureWarning: Pass the following variable as a keyword arg: x. From version 0.12, the only valid positional argument will be `data`, and passing other arguments without an explicit keyword will result in an error or misinterpretation.\n",
      "  warnings.warn(\n"
     ]
    },
    {
     "data": {
      "text/plain": [
       "<matplotlib.legend.Legend at 0x15acd731a60>"
      ]
     },
     "execution_count": 78,
     "metadata": {},
     "output_type": "execute_result"
    },
    {
     "data": {
      "image/png": "[encoded data removed]",
      "text/plain": [
       "<Figure size 1440x360 with 1 Axes>"
      ]
     },
     "metadata": {
      "needs_background": "light"
     },
     "output_type": "display_data"
    }
   ],
   "source": [
    "plt.figure(figsize=(20,5))\n",
    "sns.countplot(train_data['Soil'], hue = train_data['Crop_status'], palette = 'Purples')\n",
    "plt.title('Soil_wise crop status',  fontsize=18, fontweight='bold')\n",
    "plt.xticks(fontsize=16)\n",
    "plt.yticks(fontsize=16)\n",
    "plt.legend(fontsize=16)"
   ]
  },
  {
   "cell_type": "code",
   "execution_count": 79,
   "id": "4d8a5575",
   "metadata": {},
   "outputs": [
    {
     "name": "stderr",
     "output_type": "stream",
     "text": [
      "C:\\Users\\dell\\anaconda3\\lib\\site-packages\\seaborn\\_decorators.py:36: FutureWarning: Pass the following variable as a keyword arg: x. From version 0.12, the only valid positional argument will be `data`, and passing other arguments without an explicit keyword will result in an error or misinterpretation.\n",
      "  warnings.warn(\n"
     ]
    },
    {
     "data": {
      "text/plain": [
       "<matplotlib.legend.Legend at 0x15acd161580>"
      ]
     },
     "execution_count": 79,
     "metadata": {},
     "output_type": "execute_result"
    },
    {
     "data": {
      "image/png": "[encoded data removed]",
      "text/plain": [
       "<Figure size 1440x360 with 1 Axes>"
      ]
     },
     "metadata": {
      "needs_background": "light"
     },
     "output_type": "display_data"
    }
   ],
   "source": [
    "plt.figure(figsize=(20,5))\n",
    "sns.countplot(train_data['Category_of_Toxicant'], hue = train_data['Crop_status'], palette = 'Purples')\n",
    "plt.title('Category_of_Toxicant_wise crop status',  fontsize=18, fontweight='bold')\n",
    "plt.xticks(fontsize=16)\n",
    "plt.yticks(fontsize=16)\n",
    "plt.legend(fontsize=16)"
   ]
  },
  {
   "cell_type": "code",
   "execution_count": 80,
   "id": "800f570a",
   "metadata": {},
   "outputs": [
    {
     "name": "stderr",
     "output_type": "stream",
     "text": [
      "C:\\Users\\dell\\anaconda3\\lib\\site-packages\\seaborn\\_decorators.py:36: FutureWarning: Pass the following variable as a keyword arg: x. From version 0.12, the only valid positional argument will be `data`, and passing other arguments without an explicit keyword will result in an error or misinterpretation.\n",
      "  warnings.warn(\n"
     ]
    },
    {
     "data": {
      "text/plain": [
       "<matplotlib.legend.Legend at 0x15ace3d2820>"
      ]
     },
     "execution_count": 80,
     "metadata": {},
     "output_type": "execute_result"
    },
    {
     "data": {
      "image/png": "[encoded data removed]",
      "text/plain": [
       "<Figure size 1440x360 with 1 Axes>"
      ]
     },
     "metadata": {
      "needs_background": "light"
     },
     "output_type": "display_data"
    }
   ],
   "source": [
    "plt.figure(figsize=(20,5))\n",
    "sns.countplot(train_data['Season'], hue = train_data['Crop_status'], palette = 'Purples')\n",
    "plt.title('Season_wise crop status',  fontsize=18, fontweight='bold')\n",
    "plt.xticks(fontsize=16)\n",
    "plt.yticks(fontsize=16)\n",
    "plt.legend(fontsize=16)"
   ]
  },
  {
   "cell_type": "code",
   "execution_count": 81,
   "id": "2094d632",
   "metadata": {},
   "outputs": [
    {
     "data": {
      "text/plain": [
       "<matplotlib.collections.PathCollection at 0x15ace721160>"
      ]
     },
     "execution_count": 81,
     "metadata": {},
     "output_type": "execute_result"
    },
    {
     "data": {
      "image/png": "[encoded data removed]",
      "text/plain": [
       "<Figure size 432x288 with 1 Axes>"
      ]
     },
     "metadata": {
      "needs_background": "light"
     },
     "output_type": "display_data"
    }
   ],
   "source": [
    "plt.scatter(train_data['Number_of_Weeks_Used'],train_data['Number_Weeks_does_not used'])"
   ]
  },
  {
   "cell_type": "markdown",
   "id": "9c18ce8c",
   "metadata": {},
   "source": [
    "##### Correlation"
   ]
  },
  {
   "cell_type": "code",
   "execution_count": 23,
   "id": "946dd049",
   "metadata": {},
   "outputs": [
    {
     "data": {
      "image/png": "[encoded data removed]",
      "text/plain": [
       "<Figure size 1440x864 with 2 Axes>"
      ]
     },
     "metadata": {
      "needs_background": "light"
     },
     "output_type": "display_data"
    }
   ],
   "source": [
    "cr = train_data.corr()\n",
    "plt.figure(figsize=(20,12))\n",
    "sns.heatmap(cr,\n",
    "            cmap='coolwarm',\n",
    "            annot=True);"
   ]
  },
  {
   "cell_type": "code",
   "execution_count": 82,
   "id": "2765653b",
   "metadata": {},
   "outputs": [],
   "source": [
    "# No correlation can be seen between the variables, thus taking into consideration all the variables."
   ]
  },
  {
   "cell_type": "markdown",
   "id": "ace1958b",
   "metadata": {},
   "source": [
    "##### Label Encoding"
   ]
  },
  {
   "cell_type": "code",
   "execution_count": 17,
   "id": "879c846f",
   "metadata": {},
   "outputs": [],
   "source": [
    "from sklearn.preprocessing import LabelEncoder"
   ]
  },
  {
   "cell_type": "code",
   "execution_count": 18,
   "id": "b82ca5db",
   "metadata": {},
   "outputs": [],
   "source": [
    "cols = train_data[['Crop','Soil']]"
   ]
  },
  {
   "cell_type": "code",
   "execution_count": 21,
   "id": "2eddbe67",
   "metadata": {},
   "outputs": [],
   "source": [
    "# For train data\n",
    "label_encoder = LabelEncoder()\n",
    "for i in cols:\n",
    "    label_encoder.fit(train_data[i])\n",
    "    train_data[i] = label_encoder.transform(train_data[i])"
   ]
  },
  {
   "cell_type": "code",
   "execution_count": 22,
   "id": "ec05637a",
   "metadata": {},
   "outputs": [],
   "source": [
    "# For test data\n",
    "label_encoder = LabelEncoder()\n",
    "for i in cols:\n",
    "    label_encoder.fit(test_data[i])\n",
    "    test_data[i] = label_encoder.transform(test_data[i])"
   ]
  },
  {
   "cell_type": "markdown",
   "id": "eb4f46d6",
   "metadata": {},
   "source": [
    "#### Model Building"
   ]
  },
  {
   "cell_type": "code",
   "execution_count": 24,
   "id": "4057a587",
   "metadata": {},
   "outputs": [],
   "source": [
    "from sklearn.model_selection import train_test_split\n",
    "from sklearn.linear_model import LogisticRegression\n",
    "from sklearn.tree import DecisionTreeClassifier\n",
    "from sklearn.model_selection import GridSearchCV\n",
    "from sklearn.ensemble import RandomForestClassifier\n",
    "from xgboost.sklearn import XGBClassifier\n",
    "import xgboost as xgb\n",
    "from sklearn import metrics\n",
    "from sklearn.metrics import plot_roc_curve, auc"
   ]
  },
  {
   "cell_type": "code",
   "execution_count": 32,
   "id": "e767a191",
   "metadata": {},
   "outputs": [],
   "source": [
    "x = train_data.drop(columns = ['Crop_status','ID'])\n",
    "y = train_data['Crop_status']"
   ]
  },
  {
   "cell_type": "code",
   "execution_count": 38,
   "id": "9c4c8f43",
   "metadata": {},
   "outputs": [],
   "source": [
    "test_data_new=test_data.drop(columns=['ID'])"
   ]
  },
  {
   "cell_type": "code",
   "execution_count": 33,
   "id": "419b1bd0",
   "metadata": {},
   "outputs": [],
   "source": [
    "x_train,x_val,y_train,y_val = train_test_split(x,y,test_size=0.20,random_state=99)"
   ]
  },
  {
   "cell_type": "markdown",
   "id": "a6f0e81f",
   "metadata": {},
   "source": [
    "### LOGISTIC REGRESSION"
   ]
  },
  {
   "cell_type": "code",
   "execution_count": 34,
   "id": "d3c9ab48",
   "metadata": {},
   "outputs": [
    {
     "name": "stdout",
     "output_type": "stream",
     "text": [
      "train accuracy in lr 0.832375\n",
      "test accuracy in lr 0.8379375\n"
     ]
    },
    {
     "name": "stderr",
     "output_type": "stream",
     "text": [
      "C:\\Users\\dell\\anaconda3\\lib\\site-packages\\sklearn\\linear_model\\_logistic.py:763: ConvergenceWarning: lbfgs failed to converge (status=1):\n",
      "STOP: TOTAL NO. of ITERATIONS REACHED LIMIT.\n",
      "\n",
      "Increase the number of iterations (max_iter) or scale the data as shown in:\n",
      "    https://scikit-learn.org/stable/modules/preprocessing.html\n",
      "Please also refer to the documentation for alternative solver options:\n",
      "    https://scikit-learn.org/stable/modules/linear_model.html#logistic-regression\n",
      "  n_iter_i = _check_optimize_result(\n"
     ]
    }
   ],
   "source": [
    "lr = LogisticRegression()\n",
    "lr.fit(x_train,y_train)\n",
    "print(\"train accuracy in lr\",lr.score(x_train,y_train))\n",
    "print(\"test accuracy in lr\",lr.score(x_val,y_val))"
   ]
  },
  {
   "cell_type": "code",
   "execution_count": 35,
   "id": "0787e5c0",
   "metadata": {},
   "outputs": [],
   "source": [
    "pred_train_lr = lr.predict(x_train)\n",
    "pred_val_lr = lr.predict(x_val)"
   ]
  },
  {
   "cell_type": "code",
   "execution_count": 36,
   "id": "9cdaa345",
   "metadata": {},
   "outputs": [
    {
     "name": "stdout",
     "output_type": "stream",
     "text": [
      "              precision    recall  f1-score   support\n",
      "\n",
      "           0       0.84      0.99      0.91     53297\n",
      "           1       0.43      0.05      0.09      9013\n",
      "           2       0.00      0.00      0.00      1690\n",
      "\n",
      "    accuracy                           0.83     64000\n",
      "   macro avg       0.42      0.35      0.33     64000\n",
      "weighted avg       0.76      0.83      0.77     64000\n",
      "\n",
      "              precision    recall  f1-score   support\n",
      "\n",
      "           0       0.84      0.99      0.91     13419\n",
      "           1       0.43      0.05      0.09      2170\n",
      "           2       0.00      0.00      0.00       411\n",
      "\n",
      "    accuracy                           0.84     16000\n",
      "   macro avg       0.43      0.35      0.34     16000\n",
      "weighted avg       0.77      0.84      0.78     16000\n",
      "\n"
     ]
    },
    {
     "name": "stderr",
     "output_type": "stream",
     "text": [
      "C:\\Users\\dell\\anaconda3\\lib\\site-packages\\sklearn\\metrics\\_classification.py:1245: UndefinedMetricWarning: Precision and F-score are ill-defined and being set to 0.0 in labels with no predicted samples. Use `zero_division` parameter to control this behavior.\n",
      "  _warn_prf(average, modifier, msg_start, len(result))\n",
      "C:\\Users\\dell\\anaconda3\\lib\\site-packages\\sklearn\\metrics\\_classification.py:1245: UndefinedMetricWarning: Precision and F-score are ill-defined and being set to 0.0 in labels with no predicted samples. Use `zero_division` parameter to control this behavior.\n",
      "  _warn_prf(average, modifier, msg_start, len(result))\n",
      "C:\\Users\\dell\\anaconda3\\lib\\site-packages\\sklearn\\metrics\\_classification.py:1245: UndefinedMetricWarning: Precision and F-score are ill-defined and being set to 0.0 in labels with no predicted samples. Use `zero_division` parameter to control this behavior.\n",
      "  _warn_prf(average, modifier, msg_start, len(result))\n",
      "C:\\Users\\dell\\anaconda3\\lib\\site-packages\\sklearn\\metrics\\_classification.py:1245: UndefinedMetricWarning: Precision and F-score are ill-defined and being set to 0.0 in labels with no predicted samples. Use `zero_division` parameter to control this behavior.\n",
      "  _warn_prf(average, modifier, msg_start, len(result))\n",
      "C:\\Users\\dell\\anaconda3\\lib\\site-packages\\sklearn\\metrics\\_classification.py:1245: UndefinedMetricWarning: Precision and F-score are ill-defined and being set to 0.0 in labels with no predicted samples. Use `zero_division` parameter to control this behavior.\n",
      "  _warn_prf(average, modifier, msg_start, len(result))\n",
      "C:\\Users\\dell\\anaconda3\\lib\\site-packages\\sklearn\\metrics\\_classification.py:1245: UndefinedMetricWarning: Precision and F-score are ill-defined and being set to 0.0 in labels with no predicted samples. Use `zero_division` parameter to control this behavior.\n",
      "  _warn_prf(average, modifier, msg_start, len(result))\n"
     ]
    }
   ],
   "source": [
    "print(metrics.classification_report(y_train,pred_train_lr))\n",
    "print(metrics.classification_report(y_val,pred_val_lr))"
   ]
  },
  {
   "cell_type": "code",
   "execution_count": 39,
   "id": "d370cc22",
   "metadata": {},
   "outputs": [],
   "source": [
    "pred_test_lr = lr.predict(test_data_new)"
   ]
  },
  {
   "cell_type": "code",
   "execution_count": 41,
   "id": "0912ab77",
   "metadata": {},
   "outputs": [],
   "source": [
    "lr_submission = pd.DataFrame(test_data['ID'],columns=[\"ID\"])\n",
    "lr_submission['Crop_status'] = pred_test_lr\n",
    "lr_submission.set_index(test_data['ID'],inplace=True)\n",
    "lr_submission.drop(columns=[\"ID\"],inplace=True)"
   ]
  },
  {
   "cell_type": "code",
   "execution_count": 42,
   "id": "3c313549",
   "metadata": {},
   "outputs": [],
   "source": [
    "lr_submission.to_csv(r'C:\\Users\\dell\\Python\\stage 2\\lr_submission.csv')"
   ]
  },
  {
   "cell_type": "markdown",
   "id": "a6c3715a",
   "metadata": {},
   "source": [
    "### DECISION TREE CLASSIFIER"
   ]
  },
  {
   "cell_type": "code",
   "execution_count": 43,
   "id": "a3fdc91c",
   "metadata": {},
   "outputs": [
    {
     "name": "stdout",
     "output_type": "stream",
     "text": [
      "train accuracy in dt 0.983875\n",
      "test accuracy in dt 0.7495625\n"
     ]
    }
   ],
   "source": [
    "dt = DecisionTreeClassifier()\n",
    "dt.fit(x_train,y_train)\n",
    "print(\"train accuracy in dt\",dt.score(x_train,y_train))\n",
    "print(\"test accuracy in dt\",dt.score(x_val,y_val))"
   ]
  },
  {
   "cell_type": "code",
   "execution_count": 44,
   "id": "b515634c",
   "metadata": {},
   "outputs": [
    {
     "name": "stdout",
     "output_type": "stream",
     "text": [
      "Fitting 10 folds for each of 336 candidates, totalling 3360 fits\n"
     ]
    },
    {
     "data": {
      "text/plain": [
       "GridSearchCV(cv=10, estimator=DecisionTreeClassifier(random_state=99),\n",
       "             n_jobs=-1,\n",
       "             param_grid={'criterion': ['gini', 'entropy'],\n",
       "                         'max_depth': [2, 3, 4, 5, 6, 7, 8],\n",
       "                         'min_samples_leaf': [3, 4, 5, 6, 7, 8],\n",
       "                         'min_samples_split': [2, 4, 6, 8]},\n",
       "             verbose=1)"
      ]
     },
     "execution_count": 44,
     "metadata": {},
     "output_type": "execute_result"
    }
   ],
   "source": [
    "dt2=DecisionTreeClassifier(random_state=99)\n",
    "parameters={\"criterion\":[\"gini\",\"entropy\"],\n",
    "           \"max_depth\":[2,3,4,5,6,7,8],\n",
    "           \"min_samples_split\":[2,4,6,8],\n",
    "           \"min_samples_leaf\":[3,4,5,6,7,8]}\n",
    "gdt1=GridSearchCV(dt2,param_grid=parameters,cv=10,verbose=1,n_jobs=-1)\n",
    "gdt1.fit(x_train,y_train)"
   ]
  },
  {
   "cell_type": "code",
   "execution_count": 45,
   "id": "f3fb94a9",
   "metadata": {},
   "outputs": [
    {
     "data": {
      "text/plain": [
       "{'criterion': 'gini',\n",
       " 'max_depth': 6,\n",
       " 'min_samples_leaf': 6,\n",
       " 'min_samples_split': 2}"
      ]
     },
     "execution_count": 45,
     "metadata": {},
     "output_type": "execute_result"
    }
   ],
   "source": [
    "gdt1.best_params_"
   ]
  },
  {
   "cell_type": "code",
   "execution_count": 50,
   "id": "1cb90b1a",
   "metadata": {},
   "outputs": [
    {
     "name": "stdout",
     "output_type": "stream",
     "text": [
      "Train accuracy : 0.841515625\n",
      "Test accuracy : 0.8456875\n"
     ]
    }
   ],
   "source": [
    "dt3=DecisionTreeClassifier(max_depth=gdt1.best_params_[\"max_depth\"],criterion=gdt1.best_params_[\"criterion\"],\n",
    "                          min_samples_leaf=gdt1.best_params_[\"min_samples_leaf\"],\n",
    "                           min_samples_split=gdt1.best_params_[\"min_samples_split\"])\n",
    "dt3.fit(x_train,y_train)\n",
    "print(\"Train accuracy :\",dt3.score(x_train,y_train))\n",
    "print(\"Test accuracy :\",dt3.score(x_val,y_val))"
   ]
  },
  {
   "cell_type": "code",
   "execution_count": 51,
   "id": "3ac19c94",
   "metadata": {},
   "outputs": [],
   "source": [
    "pred_train_dt = dt3.predict(x_train)\n",
    "pred_val_dt = dt3.predict(x_val)\n",
    "pred_test_dt = dt3.predict(test_data_new)"
   ]
  },
  {
   "cell_type": "code",
   "execution_count": 52,
   "id": "9bfe4943",
   "metadata": {},
   "outputs": [
    {
     "name": "stdout",
     "output_type": "stream",
     "text": [
      "              precision    recall  f1-score   support\n",
      "\n",
      "           0       0.85      0.99      0.92     53297\n",
      "           1       0.54      0.13      0.21      9013\n",
      "           2       0.48      0.01      0.02      1690\n",
      "\n",
      "    accuracy                           0.84     64000\n",
      "   macro avg       0.63      0.38      0.38     64000\n",
      "weighted avg       0.80      0.84      0.79     64000\n",
      "\n",
      "              precision    recall  f1-score   support\n",
      "\n",
      "           0       0.86      0.99      0.92     13419\n",
      "           1       0.53      0.13      0.22      2170\n",
      "           2       0.40      0.00      0.01       411\n",
      "\n",
      "    accuracy                           0.85     16000\n",
      "   macro avg       0.60      0.38      0.38     16000\n",
      "weighted avg       0.80      0.85      0.80     16000\n",
      "\n"
     ]
    }
   ],
   "source": [
    "print(metrics.classification_report(y_train,pred_train_dt))\n",
    "print(metrics.classification_report(y_val,pred_val_dt))"
   ]
  },
  {
   "cell_type": "code",
   "execution_count": 53,
   "id": "6923c05b",
   "metadata": {},
   "outputs": [],
   "source": [
    "dt_submission = pd.DataFrame(test_data['ID'],columns=[\"ID\"])\n",
    "dt_submission['Crop_status'] = pred_test_dt\n",
    "dt_submission.set_index(test_data['ID'],inplace=True)\n",
    "dt_submission.drop(columns=[\"ID\"],inplace=True)"
   ]
  },
  {
   "cell_type": "code",
   "execution_count": 54,
   "id": "ccb3b476",
   "metadata": {},
   "outputs": [],
   "source": [
    "dt_submission.to_csv(r'C:\\Users\\dell\\Python\\stage 2\\dt_submission.csv')"
   ]
  },
  {
   "cell_type": "markdown",
   "id": "f09e347c",
   "metadata": {},
   "source": [
    "### RANDOM FOREST CLASSIFIER"
   ]
  },
  {
   "cell_type": "code",
   "execution_count": 55,
   "id": "9228cf01",
   "metadata": {},
   "outputs": [
    {
     "name": "stdout",
     "output_type": "stream",
     "text": [
      "Accuracy of train in rf : 0.983859375\n",
      "Accuracy if val in rf : 0.8236875\n"
     ]
    }
   ],
   "source": [
    "rf = RandomForestClassifier()\n",
    "rf.fit(x_train,y_train)\n",
    "print('Accuracy of train in rf :',rf.score(x_train,y_train))\n",
    "print('Accuracy if val in rf :',rf.score(x_val,y_val))"
   ]
  },
  {
   "cell_type": "code",
   "execution_count": 56,
   "id": "70374b33",
   "metadata": {},
   "outputs": [
    {
     "name": "stdout",
     "output_type": "stream",
     "text": [
      "Fitting 10 folds for each of 384 candidates, totalling 3840 fits\n"
     ]
    },
    {
     "data": {
      "text/plain": [
       "GridSearchCV(cv=10, estimator=RandomForestClassifier(random_state=99),\n",
       "             n_jobs=-1,\n",
       "             param_grid={'bootstrap': ['True', 'False'],\n",
       "                         'criterion': ['gini', 'entropy'],\n",
       "                         'max_depth': [4, 5, 6, 7],\n",
       "                         'max_features': ['auto', None],\n",
       "                         'min_samples_split': [2, 3, 4, 5],\n",
       "                         'n_estimators': [100, 125, 150]},\n",
       "             verbose=1)"
      ]
     },
     "execution_count": 56,
     "metadata": {},
     "output_type": "execute_result"
    }
   ],
   "source": [
    "rf2=RandomForestClassifier(random_state=99)\n",
    "parameters={\"criterion\":[\"gini\",\"entropy\"],\n",
    "           \"max_depth\":[4,5,6,7],\n",
    "           \"min_samples_split\":[2,3,4,5],\n",
    "           \"n_estimators\":[100,125,150],\n",
    "           \"bootstrap\":[\"True\",\"False\"],\n",
    "          \"max_features\":[\"auto\",None]}\n",
    "cv_rf1=GridSearchCV(rf2,param_grid=parameters,cv=10,verbose=1,n_jobs=-1)\n",
    "cv_rf1.fit(x_train,y_train)"
   ]
  },
  {
   "cell_type": "code",
   "execution_count": 57,
   "id": "d16fd648",
   "metadata": {},
   "outputs": [
    {
     "data": {
      "text/plain": [
       "{'bootstrap': 'True',\n",
       " 'criterion': 'gini',\n",
       " 'max_depth': 7,\n",
       " 'max_features': None,\n",
       " 'min_samples_split': 2,\n",
       " 'n_estimators': 100}"
      ]
     },
     "execution_count": 57,
     "metadata": {},
     "output_type": "execute_result"
    }
   ],
   "source": [
    "cv_rf1.best_params_"
   ]
  },
  {
   "cell_type": "code",
   "execution_count": 58,
   "id": "99762262",
   "metadata": {},
   "outputs": [
    {
     "name": "stdout",
     "output_type": "stream",
     "text": [
      "Train accuracy : 0.841984375\n",
      "Test accuracy : 0.8464375\n"
     ]
    }
   ],
   "source": [
    "rf3=RandomForestClassifier(n_estimators=cv_rf1.best_params_[\"n_estimators\"],\n",
    "                          max_depth=cv_rf1.best_params_[\"max_depth\"],\n",
    "                          criterion=cv_rf1.best_params_[\"criterion\"],\n",
    "                          min_samples_split=cv_rf1.best_params_[\"min_samples_split\"],\n",
    "                          bootstrap=cv_rf1.best_params_[\"bootstrap\"],\n",
    "                          max_features=cv_rf1.best_params_[\"max_features\"])\n",
    "rf3.fit(x_train,y_train)\n",
    "print(\"Train accuracy :\",rf3.score(x_train,y_train))\n",
    "print(\"Test accuracy :\",rf3.score(x_val,y_val))"
   ]
  },
  {
   "cell_type": "code",
   "execution_count": 59,
   "id": "3c973900",
   "metadata": {},
   "outputs": [],
   "source": [
    "pred_train_rf=rf3.predict(x_train)\n",
    "pred_val_rf=rf3.predict(x_val)\n",
    "pred_test_rf=rf3.predict(test_data_new)"
   ]
  },
  {
   "cell_type": "code",
   "execution_count": 60,
   "id": "72787b20",
   "metadata": {},
   "outputs": [
    {
     "name": "stdout",
     "output_type": "stream",
     "text": [
      "              precision    recall  f1-score   support\n",
      "\n",
      "           0       0.99      0.85      0.92     61913\n",
      "           1       0.13      0.55      0.21      2066\n",
      "           2       0.01      0.90      0.02        21\n",
      "\n",
      "    accuracy                           0.84     64000\n",
      "   macro avg       0.38      0.77      0.38     64000\n",
      "weighted avg       0.96      0.84      0.89     64000\n",
      "\n",
      "              precision    recall  f1-score   support\n",
      "\n",
      "           0       0.99      0.86      0.92     15485\n",
      "           1       0.13      0.55      0.21       512\n",
      "           2       0.00      0.00      0.00         3\n",
      "\n",
      "    accuracy                           0.85     16000\n",
      "   macro avg       0.37      0.47      0.38     16000\n",
      "weighted avg       0.96      0.85      0.89     16000\n",
      "\n"
     ]
    }
   ],
   "source": [
    "print(metrics.classification_report(pred_train_rf,y_train))\n",
    "print(metrics.classification_report(pred_val_rf,y_val))"
   ]
  },
  {
   "cell_type": "code",
   "execution_count": 62,
   "id": "70fa312f",
   "metadata": {},
   "outputs": [],
   "source": [
    "rf_submission = pd.DataFrame(test_data['ID'],columns=[\"ID\"])\n",
    "rf_submission['Crop_status'] = pred_test_rf\n",
    "rf_submission.set_index(test_data['ID'],inplace=True)\n",
    "rf_submission.drop(columns=[\"ID\"],inplace=True)\n",
    "rf_submission.to_csv(r'C:\\Users\\dell\\Python\\stage 2\\rf_submission.csv')"
   ]
  },
  {
   "cell_type": "markdown",
   "id": "d0ffb275",
   "metadata": {},
   "source": [
    "### XTREME GRADIEANT BOOSTING CLASSIFIER"
   ]
  },
  {
   "cell_type": "code",
   "execution_count": 63,
   "id": "63a38921",
   "metadata": {},
   "outputs": [
    {
     "name": "stderr",
     "output_type": "stream",
     "text": [
      "C:\\Users\\dell\\anaconda3\\lib\\site-packages\\xgboost\\sklearn.py:1146: UserWarning: The use of label encoder in XGBClassifier is deprecated and will be removed in a future release. To remove this warning, do the following: 1) Pass option use_label_encoder=False when constructing XGBClassifier object; and 2) Encode your labels (y) as integers starting with 0, i.e. 0, 1, 2, ..., [num_class - 1].\n",
      "  warnings.warn(label_encoder_deprecation_msg, UserWarning)\n"
     ]
    },
    {
     "name": "stdout",
     "output_type": "stream",
     "text": [
      "[19:18:13] WARNING: C:/Users/Administrator/workspace/xgboost-win64_release_1.4.0/src/learner.cc:1095: Starting in XGBoost 1.3.0, the default evaluation metric used with the objective 'multi:softprob' was changed from 'merror' to 'mlogloss'. Explicitly set eval_metric if you'd like to restore the old behavior.\n",
      "Accuracy of train in xgb 0.857515625\n",
      "Accuracy of test in xgb 0.84675\n"
     ]
    }
   ],
   "source": [
    "xgb = XGBClassifier()\n",
    "xgb.fit(x_train,y_train)\n",
    "print(\"Accuracy of train in xgb\",xgb.score(x_train,y_train))\n",
    "print(\"Accuracy of test in xgb\",xgb.score(x_val,y_val))"
   ]
  },
  {
   "cell_type": "code",
   "execution_count": 64,
   "id": "f2c6196b",
   "metadata": {},
   "outputs": [
    {
     "name": "stdout",
     "output_type": "stream",
     "text": [
      "Fitting 5 folds for each of 144 candidates, totalling 720 fits\n"
     ]
    },
    {
     "name": "stderr",
     "output_type": "stream",
     "text": [
      "C:\\Users\\dell\\anaconda3\\lib\\site-packages\\xgboost\\sklearn.py:1146: UserWarning: The use of label encoder in XGBClassifier is deprecated and will be removed in a future release. To remove this warning, do the following: 1) Pass option use_label_encoder=False when constructing XGBClassifier object; and 2) Encode your labels (y) as integers starting with 0, i.e. 0, 1, 2, ..., [num_class - 1].\n",
      "  warnings.warn(label_encoder_deprecation_msg, UserWarning)\n"
     ]
    },
    {
     "name": "stdout",
     "output_type": "stream",
     "text": [
      "[23:30:39] WARNING: C:/Users/Administrator/workspace/xgboost-win64_release_1.4.0/src/learner.cc:1095: Starting in XGBoost 1.3.0, the default evaluation metric used with the objective 'multi:softprob' was changed from 'merror' to 'mlogloss'. Explicitly set eval_metric if you'd like to restore the old behavior.\n"
     ]
    },
    {
     "data": {
      "text/plain": [
       "GridSearchCV(cv=5,\n",
       "             estimator=XGBClassifier(base_score=None, booster=None,\n",
       "                                     colsample_bylevel=None,\n",
       "                                     colsample_bynode=None,\n",
       "                                     colsample_bytree=None, gamma=None,\n",
       "                                     gpu_id=None, importance_type='gain',\n",
       "                                     interaction_constraints=None,\n",
       "                                     learning_rate=None, max_delta_step=None,\n",
       "                                     max_depth=None, min_child_weight=None,\n",
       "                                     missing=nan, monotone_constraints=None,\n",
       "                                     n_estimators=100, n_jobs=None,\n",
       "                                     num_parallel_tree=None, random_state=None,\n",
       "                                     reg_alpha=None, reg_lambda=None,\n",
       "                                     scale_pos_weight=None, seed=88,\n",
       "                                     subsample=None, tree_method=None,\n",
       "                                     validate_parameters=None, verbosity=None),\n",
       "             n_jobs=-1,\n",
       "             param_grid={'learning_rate': [0.1, 0.01, 0.001, 0.0001],\n",
       "                         'max_depth': [5, 6, 7, 8, 9, 10],\n",
       "                         'n_estimators': [100, 150],\n",
       "                         'subsample': [0.6, 0.7, 0.8]},\n",
       "             scoring='accuracy', verbose=1)"
      ]
     },
     "execution_count": 64,
     "metadata": {},
     "output_type": "execute_result"
    }
   ],
   "source": [
    "xgb1=XGBClassifier(objective=\"binary:logistic\", seed=88)\n",
    "param1={\"max_depth\":[5,6,7,8,9,10],\n",
    "        'n_estimators':[100,150],\n",
    "        \"learning_rate\":[0.1,0.01,0.001,0.0001],\n",
    "        \"subsample\":[0.6,0.7,0.8]}\n",
    "\n",
    "gsearch1=GridSearchCV(estimator=xgb1, \n",
    "                      param_grid=param1, \n",
    "                      scoring=\"accuracy\", n_jobs=-1,verbose=1, cv=5)\n",
    "\n",
    "gsearch1.fit(x_train, y_train)"
   ]
  },
  {
   "cell_type": "code",
   "execution_count": 65,
   "id": "0bcd222b",
   "metadata": {},
   "outputs": [],
   "source": [
    "xgb2=XGBClassifier(learning_rate=gsearch1.best_params_['learning_rate'],\n",
    "                   n_estimators=gsearch1.best_params_['n_estimators'], \n",
    "                   subsample=gsearch1.best_params_['subsample'],\n",
    "                  objective=\"binary:logistic\", \n",
    "                   seed=88, \n",
    "                  max_depth=gsearch1.best_params_['max_depth'])"
   ]
  },
  {
   "cell_type": "code",
   "execution_count": 66,
   "id": "36f3374e",
   "metadata": {},
   "outputs": [
    {
     "name": "stdout",
     "output_type": "stream",
     "text": [
      "[23:30:59] WARNING: C:/Users/Administrator/workspace/xgboost-win64_release_1.4.0/src/learner.cc:1095: Starting in XGBoost 1.3.0, the default evaluation metric used with the objective 'multi:softprob' was changed from 'merror' to 'mlogloss'. Explicitly set eval_metric if you'd like to restore the old behavior.\n",
      "Accuracy of train in xgb: 0.8500625\n",
      "Accuracy of test in xgb: 0.84875\n"
     ]
    }
   ],
   "source": [
    "xgb2.fit(x_train,y_train)\n",
    "print(\"Accuracy of train in xgb:\",xgb2.score(x_train,y_train))\n",
    "print(\"Accuracy of test in xgb:\",xgb2.score(x_val,y_val))"
   ]
  },
  {
   "cell_type": "code",
   "execution_count": 67,
   "id": "b8a39599",
   "metadata": {},
   "outputs": [],
   "source": [
    "pred_train_xgb=xgb2.predict(x_train)\n",
    "pred_val_xgb=xgb2.predict(x_val)\n",
    "pred_test_xgb=xgb2.predict(test_data_new)"
   ]
  },
  {
   "cell_type": "code",
   "execution_count": 68,
   "id": "b314d8e3",
   "metadata": {},
   "outputs": [
    {
     "name": "stdout",
     "output_type": "stream",
     "text": [
      "              precision    recall  f1-score   support\n",
      "\n",
      "           0       0.99      0.86      0.92     60792\n",
      "           1       0.21      0.59      0.31      3192\n",
      "           2       0.01      0.62      0.01        16\n",
      "\n",
      "    accuracy                           0.85     64000\n",
      "   macro avg       0.40      0.69      0.41     64000\n",
      "weighted avg       0.95      0.85      0.89     64000\n",
      "\n",
      "              precision    recall  f1-score   support\n",
      "\n",
      "           0       0.98      0.87      0.92     15191\n",
      "           1       0.20      0.53      0.29       809\n",
      "           2       0.00      0.00      0.00         0\n",
      "\n",
      "    accuracy                           0.85     16000\n",
      "   macro avg       0.39      0.47      0.40     16000\n",
      "weighted avg       0.94      0.85      0.89     16000\n",
      "\n"
     ]
    },
    {
     "name": "stderr",
     "output_type": "stream",
     "text": [
      "C:\\Users\\dell\\anaconda3\\lib\\site-packages\\sklearn\\metrics\\_classification.py:1245: UndefinedMetricWarning: Recall and F-score are ill-defined and being set to 0.0 in labels with no true samples. Use `zero_division` parameter to control this behavior.\n",
      "  _warn_prf(average, modifier, msg_start, len(result))\n",
      "C:\\Users\\dell\\anaconda3\\lib\\site-packages\\sklearn\\metrics\\_classification.py:1245: UndefinedMetricWarning: Recall and F-score are ill-defined and being set to 0.0 in labels with no true samples. Use `zero_division` parameter to control this behavior.\n",
      "  _warn_prf(average, modifier, msg_start, len(result))\n",
      "C:\\Users\\dell\\anaconda3\\lib\\site-packages\\sklearn\\metrics\\_classification.py:1245: UndefinedMetricWarning: Recall and F-score are ill-defined and being set to 0.0 in labels with no true samples. Use `zero_division` parameter to control this behavior.\n",
      "  _warn_prf(average, modifier, msg_start, len(result))\n"
     ]
    }
   ],
   "source": [
    "print(metrics.classification_report(pred_train_xgb,y_train))\n",
    "print(metrics.classification_report(pred_val_xgb,y_val))"
   ]
  },
  {
   "cell_type": "code",
   "execution_count": 70,
   "id": "7c606984",
   "metadata": {},
   "outputs": [],
   "source": [
    "xgb_submission = pd.DataFrame(test_data['ID'],columns=[\"ID\"])\n",
    "xgb_submission['Crop_status'] = pred_test_xgb\n",
    "xgb_submission.set_index(test_data['ID'],inplace=True)\n",
    "xgb_submission.drop(columns=[\"ID\"],inplace=True)\n",
    "xgb_submission.to_csv(r'C:\\Users\\dell\\Python\\stage 2\\xgb_submission.csv')"
   ]
  },
  {
   "cell_type": "code",
   "execution_count": null,
   "id": "e999dcd3",
   "metadata": {},
   "outputs": [],
   "source": []
  }
 ],
 "metadata": {
  "kernelspec": {
   "display_name": "Python 3",
   "language": "python",
   "name": "python3"
  }
 },
 "nbformat": 4,
 "nbformat_minor": 5
}
